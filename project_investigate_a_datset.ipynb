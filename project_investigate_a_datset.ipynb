{
 "cells": [
  {
   "cell_type": "markdown",
   "id": "a024a40c",
   "metadata": {},
   "source": [
    "# Economic Development and Environmental Pollution\n"
   ]
  },
  {
   "cell_type": "code",
   "execution_count": 22,
   "id": "d33da2c7",
   "metadata": {},
   "outputs": [],
   "source": [
    "# Importing relevant libraries\n",
    "\n",
    "import pandas as pd\n",
    "import numpy as np\n",
    "import matplotlib.pyplot as plt\n",
    "import seaborn as sns\n",
    "%matplotlib inline"
   ]
  },
  {
   "cell_type": "code",
   "execution_count": 5,
   "id": "254a530c",
   "metadata": {},
   "outputs": [],
   "source": [
    "# Read relevant data\n",
    "\n",
    "df_pop = pd.read_csv('population_total.csv')\n",
    "df_forest_area = pd.read_csv('forest_area_sq_km.csv')\n",
    "df_co2_emissions = pd.read_csv('co2_emissions_tonnes_per_person.csv')\n",
    "df_gdp = pd.read_csv('total_gdp_ppp_inflation_adjusted.csv')\n"
   ]
  },
  {
   "cell_type": "code",
   "execution_count": 33,
   "id": "56ff78dc",
   "metadata": {},
   "outputs": [],
   "source": [
    "def display_all(df):\n",
    "    with pd.option_context('display.max_rows',1000):\n",
    "        with pd.option_context('display.max_columns',1000):\n",
    "            display(df)"
   ]
  },
  {
   "cell_type": "code",
   "execution_count": 58,
   "id": "929a3dbf",
   "metadata": {},
   "outputs": [
    {
     "data": {
      "text/plain": [
       "pandas.core.frame.DataFrame"
      ]
     },
     "execution_count": 58,
     "metadata": {},
     "output_type": "execute_result"
    }
   ],
   "source": [
    "#df_use= df_pop.loc[:, '1990':'2020']\n",
    "df_country = df_pop.loc[:, 'country':'country']\n",
    "type(df_country)"
   ]
  },
  {
   "cell_type": "code",
   "execution_count": 52,
   "id": "5861340f",
   "metadata": {},
   "outputs": [
    {
     "data": {
      "text/plain": [
       "0               Afghanistan\n",
       "1                    Angola\n",
       "2                   Albania\n",
       "3                   Andorra\n",
       "4      United Arab Emirates\n",
       "               ...         \n",
       "192                   Samoa\n",
       "193                   Yemen\n",
       "194            South Africa\n",
       "195                  Zambia\n",
       "196                Zimbabwe\n",
       "Name: country, Length: 197, dtype: object"
      ]
     },
     "execution_count": 52,
     "metadata": {},
     "output_type": "execute_result"
    }
   ],
   "source": [
    "df_pop.country\n"
   ]
  },
  {
   "cell_type": "code",
   "execution_count": 59,
   "id": "1f374a70",
   "metadata": {},
   "outputs": [
    {
     "data": {
      "text/plain": [
       "pandas.core.frame.DataFrame"
      ]
     },
     "execution_count": 59,
     "metadata": {},
     "output_type": "execute_result"
    }
   ],
   "source": [
    "y = df_pop[['country']]\n",
    "type(y)"
   ]
  },
  {
   "cell_type": "code",
   "execution_count": 60,
   "id": "8dd88797",
   "metadata": {},
   "outputs": [
    {
     "data": {
      "text/html": [
       "<div>\n",
       "<style scoped>\n",
       "    .dataframe tbody tr th:only-of-type {\n",
       "        vertical-align: middle;\n",
       "    }\n",
       "\n",
       "    .dataframe tbody tr th {\n",
       "        vertical-align: top;\n",
       "    }\n",
       "\n",
       "    .dataframe thead th {\n",
       "        text-align: right;\n",
       "    }\n",
       "</style>\n",
       "<table border=\"1\" class=\"dataframe\">\n",
       "  <thead>\n",
       "    <tr style=\"text-align: right;\">\n",
       "      <th></th>\n",
       "      <th>country</th>\n",
       "    </tr>\n",
       "  </thead>\n",
       "  <tbody>\n",
       "    <tr>\n",
       "      <th>0</th>\n",
       "      <td>Afghanistan</td>\n",
       "    </tr>\n",
       "    <tr>\n",
       "      <th>1</th>\n",
       "      <td>Angola</td>\n",
       "    </tr>\n",
       "    <tr>\n",
       "      <th>2</th>\n",
       "      <td>Albania</td>\n",
       "    </tr>\n",
       "    <tr>\n",
       "      <th>3</th>\n",
       "      <td>Andorra</td>\n",
       "    </tr>\n",
       "    <tr>\n",
       "      <th>4</th>\n",
       "      <td>United Arab Emirates</td>\n",
       "    </tr>\n",
       "    <tr>\n",
       "      <th>...</th>\n",
       "      <td>...</td>\n",
       "    </tr>\n",
       "    <tr>\n",
       "      <th>192</th>\n",
       "      <td>Samoa</td>\n",
       "    </tr>\n",
       "    <tr>\n",
       "      <th>193</th>\n",
       "      <td>Yemen</td>\n",
       "    </tr>\n",
       "    <tr>\n",
       "      <th>194</th>\n",
       "      <td>South Africa</td>\n",
       "    </tr>\n",
       "    <tr>\n",
       "      <th>195</th>\n",
       "      <td>Zambia</td>\n",
       "    </tr>\n",
       "    <tr>\n",
       "      <th>196</th>\n",
       "      <td>Zimbabwe</td>\n",
       "    </tr>\n",
       "  </tbody>\n",
       "</table>\n",
       "<p>197 rows × 1 columns</p>\n",
       "</div>"
      ],
      "text/plain": [
       "                  country\n",
       "0             Afghanistan\n",
       "1                  Angola\n",
       "2                 Albania\n",
       "3                 Andorra\n",
       "4    United Arab Emirates\n",
       "..                    ...\n",
       "192                 Samoa\n",
       "193                 Yemen\n",
       "194          South Africa\n",
       "195                Zambia\n",
       "196              Zimbabwe\n",
       "\n",
       "[197 rows x 1 columns]"
      ]
     },
     "execution_count": 60,
     "metadata": {},
     "output_type": "execute_result"
    }
   ],
   "source": [
    "y"
   ]
  },
  {
   "cell_type": "code",
   "execution_count": 47,
   "id": "e6ba1faf",
   "metadata": {},
   "outputs": [
    {
     "data": {
      "text/html": [
       "<div>\n",
       "<style scoped>\n",
       "    .dataframe tbody tr th:only-of-type {\n",
       "        vertical-align: middle;\n",
       "    }\n",
       "\n",
       "    .dataframe tbody tr th {\n",
       "        vertical-align: top;\n",
       "    }\n",
       "\n",
       "    .dataframe thead th {\n",
       "        text-align: right;\n",
       "    }\n",
       "</style>\n",
       "<table border=\"1\" class=\"dataframe\">\n",
       "  <thead>\n",
       "    <tr style=\"text-align: right;\">\n",
       "      <th></th>\n",
       "      <th>1990</th>\n",
       "      <th>1991</th>\n",
       "      <th>1992</th>\n",
       "      <th>1993</th>\n",
       "      <th>1994</th>\n",
       "      <th>1995</th>\n",
       "      <th>1996</th>\n",
       "      <th>1997</th>\n",
       "      <th>1998</th>\n",
       "      <th>1999</th>\n",
       "      <th>...</th>\n",
       "      <th>2011</th>\n",
       "      <th>2012</th>\n",
       "      <th>2013</th>\n",
       "      <th>2014</th>\n",
       "      <th>2015</th>\n",
       "      <th>2016</th>\n",
       "      <th>2017</th>\n",
       "      <th>2018</th>\n",
       "      <th>2019</th>\n",
       "      <th>2020</th>\n",
       "    </tr>\n",
       "  </thead>\n",
       "  <tbody>\n",
       "    <tr>\n",
       "      <th>count</th>\n",
       "      <td>197</td>\n",
       "      <td>197</td>\n",
       "      <td>197</td>\n",
       "      <td>197</td>\n",
       "      <td>197</td>\n",
       "      <td>197</td>\n",
       "      <td>197</td>\n",
       "      <td>197</td>\n",
       "      <td>197</td>\n",
       "      <td>197</td>\n",
       "      <td>...</td>\n",
       "      <td>197</td>\n",
       "      <td>197</td>\n",
       "      <td>197</td>\n",
       "      <td>197</td>\n",
       "      <td>197</td>\n",
       "      <td>197</td>\n",
       "      <td>197</td>\n",
       "      <td>197</td>\n",
       "      <td>197</td>\n",
       "      <td>197</td>\n",
       "    </tr>\n",
       "    <tr>\n",
       "      <th>unique</th>\n",
       "      <td>188</td>\n",
       "      <td>188</td>\n",
       "      <td>187</td>\n",
       "      <td>190</td>\n",
       "      <td>188</td>\n",
       "      <td>184</td>\n",
       "      <td>187</td>\n",
       "      <td>181</td>\n",
       "      <td>185</td>\n",
       "      <td>177</td>\n",
       "      <td>...</td>\n",
       "      <td>190</td>\n",
       "      <td>189</td>\n",
       "      <td>186</td>\n",
       "      <td>187</td>\n",
       "      <td>184</td>\n",
       "      <td>187</td>\n",
       "      <td>183</td>\n",
       "      <td>190</td>\n",
       "      <td>186</td>\n",
       "      <td>188</td>\n",
       "    </tr>\n",
       "    <tr>\n",
       "      <th>top</th>\n",
       "      <td>10.2M</td>\n",
       "      <td>13.3M</td>\n",
       "      <td>10.4M</td>\n",
       "      <td>619k</td>\n",
       "      <td>30.4k</td>\n",
       "      <td>3.22M</td>\n",
       "      <td>22.1M</td>\n",
       "      <td>10.2M</td>\n",
       "      <td>11M</td>\n",
       "      <td>8.05M</td>\n",
       "      <td>...</td>\n",
       "      <td>4.08M</td>\n",
       "      <td>10.5M</td>\n",
       "      <td>2.06M</td>\n",
       "      <td>109k</td>\n",
       "      <td>10.7M</td>\n",
       "      <td>110k</td>\n",
       "      <td>4.06M</td>\n",
       "      <td>1.27M</td>\n",
       "      <td>11.5M</td>\n",
       "      <td>2.08M</td>\n",
       "    </tr>\n",
       "    <tr>\n",
       "      <th>freq</th>\n",
       "      <td>3</td>\n",
       "      <td>2</td>\n",
       "      <td>3</td>\n",
       "      <td>2</td>\n",
       "      <td>2</td>\n",
       "      <td>3</td>\n",
       "      <td>2</td>\n",
       "      <td>3</td>\n",
       "      <td>3</td>\n",
       "      <td>4</td>\n",
       "      <td>...</td>\n",
       "      <td>2</td>\n",
       "      <td>2</td>\n",
       "      <td>2</td>\n",
       "      <td>3</td>\n",
       "      <td>3</td>\n",
       "      <td>2</td>\n",
       "      <td>2</td>\n",
       "      <td>2</td>\n",
       "      <td>3</td>\n",
       "      <td>2</td>\n",
       "    </tr>\n",
       "  </tbody>\n",
       "</table>\n",
       "<p>4 rows × 31 columns</p>\n",
       "</div>"
      ],
      "text/plain": [
       "         1990   1991   1992  1993   1994   1995   1996   1997 1998   1999  \\\n",
       "count     197    197    197   197    197    197    197    197  197    197   \n",
       "unique    188    188    187   190    188    184    187    181  185    177   \n",
       "top     10.2M  13.3M  10.4M  619k  30.4k  3.22M  22.1M  10.2M  11M  8.05M   \n",
       "freq        3      2      3     2      2      3      2      3    3      4   \n",
       "\n",
       "        ...   2011   2012   2013  2014   2015  2016   2017   2018   2019  \\\n",
       "count   ...    197    197    197   197    197   197    197    197    197   \n",
       "unique  ...    190    189    186   187    184   187    183    190    186   \n",
       "top     ...  4.08M  10.5M  2.06M  109k  10.7M  110k  4.06M  1.27M  11.5M   \n",
       "freq    ...      2      2      2     3      3     2      2      2      3   \n",
       "\n",
       "         2020  \n",
       "count     197  \n",
       "unique    188  \n",
       "top     2.08M  \n",
       "freq        2  \n",
       "\n",
       "[4 rows x 31 columns]"
      ]
     },
     "execution_count": 47,
     "metadata": {},
     "output_type": "execute_result"
    }
   ],
   "source": [
    "df_use.describe()"
   ]
  },
  {
   "cell_type": "code",
   "execution_count": 30,
   "id": "d3971b31",
   "metadata": {},
   "outputs": [
    {
     "name": "stdout",
     "output_type": "stream",
     "text": [
      "<class 'pandas.core.frame.DataFrame'>\n",
      "RangeIndex: 214 entries, 0 to 213\n",
      "Data columns (total 32 columns):\n",
      " #   Column   Non-Null Count  Dtype \n",
      "---  ------   --------------  ----- \n",
      " 0   country  214 non-null    object\n",
      " 1   1990     210 non-null    object\n",
      " 2   1991     210 non-null    object\n",
      " 3   1992     210 non-null    object\n",
      " 4   1993     210 non-null    object\n",
      " 5   1994     210 non-null    object\n",
      " 6   1995     210 non-null    object\n",
      " 7   1996     210 non-null    object\n",
      " 8   1997     210 non-null    object\n",
      " 9   1998     210 non-null    object\n",
      " 10  1999     210 non-null    object\n",
      " 11  2000     214 non-null    object\n",
      " 12  2001     210 non-null    object\n",
      " 13  2002     210 non-null    object\n",
      " 14  2003     210 non-null    object\n",
      " 15  2004     210 non-null    object\n",
      " 16  2005     210 non-null    object\n",
      " 17  2006     210 non-null    object\n",
      " 18  2007     210 non-null    object\n",
      " 19  2008     210 non-null    object\n",
      " 20  2009     210 non-null    object\n",
      " 21  2010     214 non-null    object\n",
      " 22  2011     214 non-null    object\n",
      " 23  2012     214 non-null    object\n",
      " 24  2013     214 non-null    object\n",
      " 25  2014     214 non-null    object\n",
      " 26  2015     214 non-null    object\n",
      " 27  2016     214 non-null    object\n",
      " 28  2017     214 non-null    object\n",
      " 29  2018     214 non-null    object\n",
      " 30  2019     210 non-null    object\n",
      " 31  2020     210 non-null    object\n",
      "dtypes: object(32)\n",
      "memory usage: 53.6+ KB\n"
     ]
    }
   ],
   "source": [
    "df_forest_area.info()"
   ]
  },
  {
   "cell_type": "code",
   "execution_count": 31,
   "id": "b26bc436",
   "metadata": {},
   "outputs": [
    {
     "name": "stdout",
     "output_type": "stream",
     "text": [
      "<class 'pandas.core.frame.DataFrame'>\n",
      "RangeIndex: 194 entries, 0 to 193\n",
      "Columns: 220 entries, country to 2018\n",
      "dtypes: float64(215), object(5)\n",
      "memory usage: 333.6+ KB\n"
     ]
    }
   ],
   "source": [
    "df_co2_emissions.info()"
   ]
  },
  {
   "cell_type": "code",
   "execution_count": 32,
   "id": "6a373d46",
   "metadata": {},
   "outputs": [
    {
     "name": "stdout",
     "output_type": "stream",
     "text": [
      "<class 'pandas.core.frame.DataFrame'>\n",
      "RangeIndex: 229 entries, 0 to 228\n",
      "Columns: 215 entries, country to 2013\n",
      "dtypes: object(215)\n",
      "memory usage: 384.8+ KB\n"
     ]
    }
   ],
   "source": [
    "df_gdp.info()"
   ]
  },
  {
   "cell_type": "code",
   "execution_count": null,
   "id": "8ded6d8e",
   "metadata": {},
   "outputs": [],
   "source": []
  }
 ],
 "metadata": {
  "kernelspec": {
   "display_name": "Python 3 (ipykernel)",
   "language": "python",
   "name": "python3"
  },
  "language_info": {
   "codemirror_mode": {
    "name": "ipython",
    "version": 3
   },
   "file_extension": ".py",
   "mimetype": "text/x-python",
   "name": "python",
   "nbconvert_exporter": "python",
   "pygments_lexer": "ipython3",
   "version": "3.9.7"
  }
 },
 "nbformat": 4,
 "nbformat_minor": 5
}
